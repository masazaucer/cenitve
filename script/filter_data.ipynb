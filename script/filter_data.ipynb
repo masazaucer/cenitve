{
 "cells": [
  {
   "cell_type": "code",
   "execution_count": 2,
   "metadata": {
    "pycharm": {
     "name": "#%%\n"
    }
   },
   "outputs": [
    {
     "name": "stderr",
     "output_type": "stream",
     "text": [
      "/home/simon/.local/lib/python3.10/site-packages/geopandas/_compat.py:112: UserWarning: The Shapely GEOS version (3.10.2-CAPI-1.16.0) is incompatible with the GEOS version PyGEOS was compiled with (3.10.1-CAPI-1.16.0). Conversions between both will be slow.\n",
      "  warnings.warn(\n",
      "/tmp/ipykernel_7445/292453520.py:7: FutureWarning: The error_bad_lines argument has been deprecated and will be removed in a future version. Use on_bad_lines in the future.\n",
      "\n",
      "\n",
      "  etn_data_deli_stavb_2022 = pd.read_csv(\"../data/ETN_SLO_CSV_A_KUP/ETN_SLO_KUP_2022_20220716/ETN_SLO_KUP_2022_delistavb_20220716.csv\", delimiter=';', error_bad_lines=False)\n",
      "/tmp/ipykernel_7445/292453520.py:7: DtypeWarning: Columns (34) have mixed types. Specify dtype option on import or set low_memory=False.\n",
      "  etn_data_deli_stavb_2022 = pd.read_csv(\"../data/ETN_SLO_CSV_A_KUP/ETN_SLO_KUP_2022_20220716/ETN_SLO_KUP_2022_delistavb_20220716.csv\", delimiter=';', error_bad_lines=False)\n",
      "/tmp/ipykernel_7445/292453520.py:8: FutureWarning: The error_bad_lines argument has been deprecated and will be removed in a future version. Use on_bad_lines in the future.\n",
      "\n",
      "\n",
      "  etn_data_posli_2022 = pd.read_csv(\"../data/ETN_SLO_CSV_A_KUP/ETN_SLO_KUP_2022_20220716/ETN_SLO_KUP_2022_posli_20220716.csv\", delimiter=';', error_bad_lines=False)\n",
      "/tmp/ipykernel_7445/292453520.py:9: FutureWarning: The error_bad_lines argument has been deprecated and will be removed in a future version. Use on_bad_lines in the future.\n",
      "\n",
      "\n",
      "  etn_data_deli_stavb_2021 = pd.read_csv('../data/ETN_SLO_CSV_A_KUP/ETN_SLO_KUP_2021_20220716/ETN_SLO_KUP_2021_delistavb_20220716.csv', delimiter=';', error_bad_lines=False)\n",
      "/tmp/ipykernel_7445/292453520.py:9: DtypeWarning: Columns (34) have mixed types. Specify dtype option on import or set low_memory=False.\n",
      "  etn_data_deli_stavb_2021 = pd.read_csv('../data/ETN_SLO_CSV_A_KUP/ETN_SLO_KUP_2021_20220716/ETN_SLO_KUP_2021_delistavb_20220716.csv', delimiter=';', error_bad_lines=False)\n",
      "/tmp/ipykernel_7445/292453520.py:10: FutureWarning: The error_bad_lines argument has been deprecated and will be removed in a future version. Use on_bad_lines in the future.\n",
      "\n",
      "\n",
      "  etn_data_posli_2021 = pd.read_csv(\"../data/ETN_SLO_CSV_A_KUP/ETN_SLO_KUP_2021_20220716/ETN_SLO_KUP_2021_posli_20220716.csv\", delimiter=';', error_bad_lines=False)\n",
      "/tmp/ipykernel_7445/292453520.py:11: FutureWarning: The error_bad_lines argument has been deprecated and will be removed in a future version. Use on_bad_lines in the future.\n",
      "\n",
      "\n",
      "  etn_data_deli_stavb_2020 = pd.read_csv(\"../data/ETN_SLO_CSV_A_KUP/ETN_SLO_KUP_2020_20220716/ETN_SLO_KUP_2020_delistavb_20220716.csv\", delimiter=';', error_bad_lines=False)\n",
      "/tmp/ipykernel_7445/292453520.py:12: FutureWarning: The error_bad_lines argument has been deprecated and will be removed in a future version. Use on_bad_lines in the future.\n",
      "\n",
      "\n",
      "  etn_data_posli_2020 = pd.read_csv(\"../data/ETN_SLO_CSV_A_KUP/ETN_SLO_KUP_2020_20220716/ETN_SLO_KUP_2020_posli_20220716.csv\", delimiter=';', error_bad_lines=False)\n",
      "/tmp/ipykernel_7445/292453520.py:16: FutureWarning: The error_bad_lines argument has been deprecated and will be removed in a future version. Use on_bad_lines in the future.\n",
      "\n",
      "\n",
      "  ren_data_stavbe = pd.read_csv(\"../data/REN_SLO_CSV_A_U_LP/REN_SLO_stavbe_20220528.csv\", delimiter=';', error_bad_lines=False)\n",
      "/tmp/ipykernel_7445/292453520.py:17: FutureWarning: The error_bad_lines argument has been deprecated and will be removed in a future version. Use on_bad_lines in the future.\n",
      "\n",
      "\n",
      "  ren_data_stavbe_delistavb = pd.read_csv(\"../data/REN_SLO_CSV_A_U_LP/REN_SLO_delistavb_20220528.csv\", delimiter=';', error_bad_lines=False)\n",
      "/tmp/ipykernel_7445/292453520.py:17: DtypeWarning: Columns (13) have mixed types. Specify dtype option on import or set low_memory=False.\n",
      "  ren_data_stavbe_delistavb = pd.read_csv(\"../data/REN_SLO_CSV_A_U_LP/REN_SLO_delistavb_20220528.csv\", delimiter=';', error_bad_lines=False)\n",
      "/tmp/ipykernel_7445/292453520.py:22: FutureWarning: The error_bad_lines argument has been deprecated and will be removed in a future version. Use on_bad_lines in the future.\n",
      "\n",
      "\n",
      "  ks_data_stavbe = pd.read_csv('../data/KS_SLO_CSV_A_U/KS_SLO_KST_20220528.csv', delimiter=';', error_bad_lines=False)\n",
      "/tmp/ipykernel_7445/292453520.py:24: FutureWarning: The error_bad_lines argument has been deprecated and will be removed in a future version. Use on_bad_lines in the future.\n",
      "\n",
      "\n",
      "  ks_data_deli_stavb = pd.read_csv('../data/KS_SLO_CSV_A_U/KS_SLO_KDS_20220528.csv', delimiter=';', error_bad_lines=False)\n"
     ]
    }
   ],
   "source": [
    "import pandas as pd\n",
    "import numpy as np\n",
    "import geopandas as gpd\n",
    "from shapely.geometry import Polygon, LineString, Point\n",
    "\n",
    "#sales data for last tree years\n",
    "etn_data_deli_stavb_2022 = pd.read_csv(\"../data/ETN_SLO_CSV_A_KUP/ETN_SLO_KUP_2022_20220716/ETN_SLO_KUP_2022_delistavb_20220716.csv\", delimiter=';', error_bad_lines=False)\n",
    "etn_data_posli_2022 = pd.read_csv(\"../data/ETN_SLO_CSV_A_KUP/ETN_SLO_KUP_2022_20220716/ETN_SLO_KUP_2022_posli_20220716.csv\", delimiter=';', error_bad_lines=False)\n",
    "etn_data_deli_stavb_2021 = pd.read_csv('../data/ETN_SLO_CSV_A_KUP/ETN_SLO_KUP_2021_20220716/ETN_SLO_KUP_2021_delistavb_20220716.csv', delimiter=';', error_bad_lines=False)\n",
    "etn_data_posli_2021 = pd.read_csv(\"../data/ETN_SLO_CSV_A_KUP/ETN_SLO_KUP_2021_20220716/ETN_SLO_KUP_2021_posli_20220716.csv\", delimiter=';', error_bad_lines=False)\n",
    "etn_data_deli_stavb_2020 = pd.read_csv(\"../data/ETN_SLO_CSV_A_KUP/ETN_SLO_KUP_2020_20220716/ETN_SLO_KUP_2020_delistavb_20220716.csv\", delimiter=';', error_bad_lines=False)\n",
    "etn_data_posli_2020 = pd.read_csv(\"../data/ETN_SLO_CSV_A_KUP/ETN_SLO_KUP_2020_20220716/ETN_SLO_KUP_2020_posli_20220716.csv\", delimiter=';', error_bad_lines=False)\n",
    "etn_data_deli_stavb_3_leta_nazaj = pd.concat([etn_data_deli_stavb_2022,etn_data_deli_stavb_2021,etn_data_deli_stavb_2020])\n",
    "etn_data_posli_3_leta_nazaj = pd.concat([etn_data_posli_2022,etn_data_posli_2021,etn_data_posli_2020])\n",
    "#ren data\n",
    "ren_data_stavbe = pd.read_csv(\"../data/REN_SLO_CSV_A_U_LP/REN_SLO_stavbe_20220528.csv\", delimiter=';', error_bad_lines=False)\n",
    "ren_data_stavbe_delistavb = pd.read_csv(\"../data/REN_SLO_CSV_A_U_LP/REN_SLO_delistavb_20220528.csv\", delimiter=';', error_bad_lines=False)\n",
    "#vrednostne cone\n",
    "emv_vrednostne_cone_stanovanj = gpd.read_file('../data/emv_vredn_cone_17_VSE/emv_vredn_cone_STA.shp')\n",
    "\n",
    "# import shapefile using geopandas\n",
    "ks_data_stavbe = pd.read_csv('../data/KS_SLO_CSV_A_U/KS_SLO_KST_20220528.csv', delimiter=';', error_bad_lines=False)\n",
    "ks_stavbe_lokacija = gpd.read_file(\"../data/KS_CENTROIDI/KS_SLO_CENTROIDI_20220528.shp\", delimiter=';', error_bad_lines=False)\n",
    "ks_data_deli_stavb = pd.read_csv('../data/KS_SLO_CSV_A_U/KS_SLO_KDS_20220528.csv', delimiter=';', error_bad_lines=False)"
   ]
  },
  {
   "cell_type": "markdown",
   "metadata": {
    "pycharm": {
     "name": "#%% md\n"
    }
   },
   "source": [
    "FILTER DATA"
   ]
  },
  {
   "cell_type": "code",
   "execution_count": 15,
   "metadata": {
    "pycharm": {
     "name": "#%%\n"
    }
   },
   "outputs": [
    {
     "data": {
      "text/plain": "       ID Posla  Šifra KO           Ime KO                   Občina  \\\n0        637436      1958        BREZOVICA                  DOMŽALE   \n6        645164      2100            KRANJ                    KRANJ   \n7        652542      2156       RADOVLJICA               RADOVLJICA   \n12       658585      2175         JESENICE                 JESENICE   \n14       646402       221        SLAPTINCI  SVETI JURIJ OB ŠČAVNICI   \n...         ...       ...              ...                      ...   \n30680    510293       659            TABOR                  MARIBOR   \n30682    508090      2706      ZELENA JAMA                LJUBLJANA   \n30684    481241      2560          HRPELJE           HRPELJE-KOZINA   \n30687    483179       659            TABOR                  MARIBOR   \n30688    496476      2017  DOLENJI LOGATEC                  LOGATEC   \n\n       Številka stavbe  Številka dela stavbe Parcelna številka za geolokacijo  \\\n0                139.0                   4.0                              NaN   \n6                355.0                   9.0                              NaN   \n7                439.0                  30.0                              NaN   \n12               145.0                 106.0                              NaN   \n14               161.0                   1.0                              NaN   \n...                ...                   ...                              ...   \n30680           2349.0                 101.0                              NaN   \n30682           1047.0                  91.0                              NaN   \n30684           1084.0                  33.0                              NaN   \n30687           1136.0                   5.0                              NaN   \n30688           1849.0                   3.0                              NaN   \n\n      Interna oznaka dela stavbe  Evidentiranost dela stavbe     Naselje  ...  \\\n0                            NaN                           1     ZABORŠT  ...   \n6                            NaN                           1       KRANJ  ...   \n7                            NaN                           1  RADOVLJICA  ...   \n12                           NaN                           1    JESENICE  ...   \n14                           NaN                           1     ŽIHLAVA  ...   \n...                          ...                         ...         ...  ...   \n30680                        NaN                           1     MARIBOR  ...   \n30682                        NaN                           1   LJUBLJANA  ...   \n30684                        NaN                           1      KOZINA  ...   \n30687                        NaN                           1     MARIBOR  ...   \n30688                        NaN                           1     LOGATEC  ...   \n\n      Površina atrija  Opombe o nepremičnini  \\\n0                 NaN                    NaN   \n6                 NaN                    NaN   \n7                 NaN                    NaN   \n12                NaN                    NaN   \n14                NaN                    NaN   \n...               ...                    ...   \n30680             NaN                    NaN   \n30682             NaN                    NaN   \n30684             NaN                    NaN   \n30687             NaN                    NaN   \n30688             NaN                    NaN   \n\n                               Dejanska raba dela stavbe  \\\n0                                         2 - Stanovanje   \n6                                         2 - Stanovanje   \n7                                         2 - Stanovanje   \n12                                        2 - Stanovanje   \n14                                        2 - Stanovanje   \n...                                                  ...   \n30680                                     2 - Stanovanje   \n30682                                     2 - Stanovanje   \n30684  1122100 - Stanovanje v večstanovanjski stavbi ...   \n30687  1122100 - Stanovanje v večstanovanjski stavbi ...   \n30688                                     2 - Stanovanje   \n\n       Lega dela stavbe v stavbi  Število sob  Površina dela stavbe  \\\n0                     nadstropje          NaN                 266,9   \n6                       mansarda          NaN                    36   \n7                     nadstropje          NaN                  19,6   \n12                    nadstropje          NaN                  56,8   \n14                     pritličje          NaN                  40,2   \n...                          ...          ...                   ...   \n30680                  pritličje          NaN                  41,8   \n30682                 nadstropje          NaN                  80,3   \n30684                 nadstropje          NaN                 117,1   \n30687                 nadstropje          2.0                  50,6   \n30688                 nadstropje          NaN                  79,8   \n\n       Uporabna površina                               Prostori dela stavbe  \\\n0                    151   bivalni prostor | odprta terasa, balkon, loža...   \n6                     32                                    bivalni prostor   \n7                   19,6                                    bivalni prostor   \n12                  47,5   bivalni prostor | klet | odprta terasa, balko...   \n14                  32,4                             bivalni prostor | klet   \n...                  ...                                                ...   \n30680                 39                             bivalni prostor | klet   \n30682               51,3   bivalni prostor | garažni parkirni prostor | ...   \n30684               91,4      bivalni prostor | odprta terasa, balkon, loža   \n30687               40,6                             bivalni prostor | klet   \n30688               68,4   bivalni prostor | klet | odprta terasa, balko...   \n\n       Pogodbena cena dela stavbe Stopnja DDV dela stavbe  \n0                             NaN                     NaN  \n6                             NaN                     NaN  \n7                             NaN                     NaN  \n12                            NaN                     NaN  \n14                            NaN                     NaN  \n...                           ...                     ...  \n30680                         NaN                     NaN  \n30682                         NaN                     NaN  \n30684                         NaN                     NaN  \n30687                         NaN                     NaN  \n30688                         NaN                     NaN  \n\n[24378 rows x 36 columns]",
      "text/html": "<div>\n<style scoped>\n    .dataframe tbody tr th:only-of-type {\n        vertical-align: middle;\n    }\n\n    .dataframe tbody tr th {\n        vertical-align: top;\n    }\n\n    .dataframe thead th {\n        text-align: right;\n    }\n</style>\n<table border=\"1\" class=\"dataframe\">\n  <thead>\n    <tr style=\"text-align: right;\">\n      <th></th>\n      <th>ID Posla</th>\n      <th>Šifra KO</th>\n      <th>Ime KO</th>\n      <th>Občina</th>\n      <th>Številka stavbe</th>\n      <th>Številka dela stavbe</th>\n      <th>Parcelna številka za geolokacijo</th>\n      <th>Interna oznaka dela stavbe</th>\n      <th>Evidentiranost dela stavbe</th>\n      <th>Naselje</th>\n      <th>...</th>\n      <th>Površina atrija</th>\n      <th>Opombe o nepremičnini</th>\n      <th>Dejanska raba dela stavbe</th>\n      <th>Lega dela stavbe v stavbi</th>\n      <th>Število sob</th>\n      <th>Površina dela stavbe</th>\n      <th>Uporabna površina</th>\n      <th>Prostori dela stavbe</th>\n      <th>Pogodbena cena dela stavbe</th>\n      <th>Stopnja DDV dela stavbe</th>\n    </tr>\n  </thead>\n  <tbody>\n    <tr>\n      <th>0</th>\n      <td>637436</td>\n      <td>1958</td>\n      <td>BREZOVICA</td>\n      <td>DOMŽALE</td>\n      <td>139.0</td>\n      <td>4.0</td>\n      <td>NaN</td>\n      <td>NaN</td>\n      <td>1</td>\n      <td>ZABORŠT</td>\n      <td>...</td>\n      <td>NaN</td>\n      <td>NaN</td>\n      <td>2 - Stanovanje</td>\n      <td>nadstropje</td>\n      <td>NaN</td>\n      <td>266,9</td>\n      <td>151</td>\n      <td>bivalni prostor | odprta terasa, balkon, loža...</td>\n      <td>NaN</td>\n      <td>NaN</td>\n    </tr>\n    <tr>\n      <th>6</th>\n      <td>645164</td>\n      <td>2100</td>\n      <td>KRANJ</td>\n      <td>KRANJ</td>\n      <td>355.0</td>\n      <td>9.0</td>\n      <td>NaN</td>\n      <td>NaN</td>\n      <td>1</td>\n      <td>KRANJ</td>\n      <td>...</td>\n      <td>NaN</td>\n      <td>NaN</td>\n      <td>2 - Stanovanje</td>\n      <td>mansarda</td>\n      <td>NaN</td>\n      <td>36</td>\n      <td>32</td>\n      <td>bivalni prostor</td>\n      <td>NaN</td>\n      <td>NaN</td>\n    </tr>\n    <tr>\n      <th>7</th>\n      <td>652542</td>\n      <td>2156</td>\n      <td>RADOVLJICA</td>\n      <td>RADOVLJICA</td>\n      <td>439.0</td>\n      <td>30.0</td>\n      <td>NaN</td>\n      <td>NaN</td>\n      <td>1</td>\n      <td>RADOVLJICA</td>\n      <td>...</td>\n      <td>NaN</td>\n      <td>NaN</td>\n      <td>2 - Stanovanje</td>\n      <td>nadstropje</td>\n      <td>NaN</td>\n      <td>19,6</td>\n      <td>19,6</td>\n      <td>bivalni prostor</td>\n      <td>NaN</td>\n      <td>NaN</td>\n    </tr>\n    <tr>\n      <th>12</th>\n      <td>658585</td>\n      <td>2175</td>\n      <td>JESENICE</td>\n      <td>JESENICE</td>\n      <td>145.0</td>\n      <td>106.0</td>\n      <td>NaN</td>\n      <td>NaN</td>\n      <td>1</td>\n      <td>JESENICE</td>\n      <td>...</td>\n      <td>NaN</td>\n      <td>NaN</td>\n      <td>2 - Stanovanje</td>\n      <td>nadstropje</td>\n      <td>NaN</td>\n      <td>56,8</td>\n      <td>47,5</td>\n      <td>bivalni prostor | klet | odprta terasa, balko...</td>\n      <td>NaN</td>\n      <td>NaN</td>\n    </tr>\n    <tr>\n      <th>14</th>\n      <td>646402</td>\n      <td>221</td>\n      <td>SLAPTINCI</td>\n      <td>SVETI JURIJ OB ŠČAVNICI</td>\n      <td>161.0</td>\n      <td>1.0</td>\n      <td>NaN</td>\n      <td>NaN</td>\n      <td>1</td>\n      <td>ŽIHLAVA</td>\n      <td>...</td>\n      <td>NaN</td>\n      <td>NaN</td>\n      <td>2 - Stanovanje</td>\n      <td>pritličje</td>\n      <td>NaN</td>\n      <td>40,2</td>\n      <td>32,4</td>\n      <td>bivalni prostor | klet</td>\n      <td>NaN</td>\n      <td>NaN</td>\n    </tr>\n    <tr>\n      <th>...</th>\n      <td>...</td>\n      <td>...</td>\n      <td>...</td>\n      <td>...</td>\n      <td>...</td>\n      <td>...</td>\n      <td>...</td>\n      <td>...</td>\n      <td>...</td>\n      <td>...</td>\n      <td>...</td>\n      <td>...</td>\n      <td>...</td>\n      <td>...</td>\n      <td>...</td>\n      <td>...</td>\n      <td>...</td>\n      <td>...</td>\n      <td>...</td>\n      <td>...</td>\n      <td>...</td>\n    </tr>\n    <tr>\n      <th>30680</th>\n      <td>510293</td>\n      <td>659</td>\n      <td>TABOR</td>\n      <td>MARIBOR</td>\n      <td>2349.0</td>\n      <td>101.0</td>\n      <td>NaN</td>\n      <td>NaN</td>\n      <td>1</td>\n      <td>MARIBOR</td>\n      <td>...</td>\n      <td>NaN</td>\n      <td>NaN</td>\n      <td>2 - Stanovanje</td>\n      <td>pritličje</td>\n      <td>NaN</td>\n      <td>41,8</td>\n      <td>39</td>\n      <td>bivalni prostor | klet</td>\n      <td>NaN</td>\n      <td>NaN</td>\n    </tr>\n    <tr>\n      <th>30682</th>\n      <td>508090</td>\n      <td>2706</td>\n      <td>ZELENA JAMA</td>\n      <td>LJUBLJANA</td>\n      <td>1047.0</td>\n      <td>91.0</td>\n      <td>NaN</td>\n      <td>NaN</td>\n      <td>1</td>\n      <td>LJUBLJANA</td>\n      <td>...</td>\n      <td>NaN</td>\n      <td>NaN</td>\n      <td>2 - Stanovanje</td>\n      <td>nadstropje</td>\n      <td>NaN</td>\n      <td>80,3</td>\n      <td>51,3</td>\n      <td>bivalni prostor | garažni parkirni prostor | ...</td>\n      <td>NaN</td>\n      <td>NaN</td>\n    </tr>\n    <tr>\n      <th>30684</th>\n      <td>481241</td>\n      <td>2560</td>\n      <td>HRPELJE</td>\n      <td>HRPELJE-KOZINA</td>\n      <td>1084.0</td>\n      <td>33.0</td>\n      <td>NaN</td>\n      <td>NaN</td>\n      <td>1</td>\n      <td>KOZINA</td>\n      <td>...</td>\n      <td>NaN</td>\n      <td>NaN</td>\n      <td>1122100 - Stanovanje v večstanovanjski stavbi ...</td>\n      <td>nadstropje</td>\n      <td>NaN</td>\n      <td>117,1</td>\n      <td>91,4</td>\n      <td>bivalni prostor | odprta terasa, balkon, loža</td>\n      <td>NaN</td>\n      <td>NaN</td>\n    </tr>\n    <tr>\n      <th>30687</th>\n      <td>483179</td>\n      <td>659</td>\n      <td>TABOR</td>\n      <td>MARIBOR</td>\n      <td>1136.0</td>\n      <td>5.0</td>\n      <td>NaN</td>\n      <td>NaN</td>\n      <td>1</td>\n      <td>MARIBOR</td>\n      <td>...</td>\n      <td>NaN</td>\n      <td>NaN</td>\n      <td>1122100 - Stanovanje v večstanovanjski stavbi ...</td>\n      <td>nadstropje</td>\n      <td>2.0</td>\n      <td>50,6</td>\n      <td>40,6</td>\n      <td>bivalni prostor | klet</td>\n      <td>NaN</td>\n      <td>NaN</td>\n    </tr>\n    <tr>\n      <th>30688</th>\n      <td>496476</td>\n      <td>2017</td>\n      <td>DOLENJI LOGATEC</td>\n      <td>LOGATEC</td>\n      <td>1849.0</td>\n      <td>3.0</td>\n      <td>NaN</td>\n      <td>NaN</td>\n      <td>1</td>\n      <td>LOGATEC</td>\n      <td>...</td>\n      <td>NaN</td>\n      <td>NaN</td>\n      <td>2 - Stanovanje</td>\n      <td>nadstropje</td>\n      <td>NaN</td>\n      <td>79,8</td>\n      <td>68,4</td>\n      <td>bivalni prostor | klet | odprta terasa, balko...</td>\n      <td>NaN</td>\n      <td>NaN</td>\n    </tr>\n  </tbody>\n</table>\n<p>24378 rows × 36 columns</p>\n</div>"
     },
     "execution_count": 15,
     "metadata": {},
     "output_type": "execute_result"
    }
   ],
   "source": [
    "#potrebno je pravilno izbrati kateri  objekti nas sploh zanimajo TODO\n",
    "nefiltrirana_kupljena_stanovanja = etn_data_deli_stavb_3_leta_nazaj[(etn_data_deli_stavb_3_leta_nazaj['Vrsta dela stavbe'] == 2) & (etn_data_deli_stavb_3_leta_nazaj['Prodani delež dela stavbe'] == '1/1') ] #chooses only bought apartments from 2022,2021,2020\n",
    "filtrirane_ren_stavbe_delistavb = ren_data_stavbe_delistavb[ren_data_stavbe_delistavb['DEJANSKA_RABA'] == 5001] #chooses only apartments form all given buildings\n",
    "nefiltrirana_kupljena_stanovanja\n"
   ]
  },
  {
   "cell_type": "code",
   "execution_count": 23,
   "metadata": {
    "pycharm": {
     "name": "#%%\n"
    }
   },
   "outputs": [],
   "source": [
    "#creates filtered DATAFRAME for all bought apartments - kupljena_stanovnja\n",
    "##############################################################################################################################################################################################################\n",
    "first = pd.merge(nefiltrirana_kupljena_stanovanja, ren_data_stavbe, left_on=['Šifra KO', 'Številka stavbe'], right_on=['KO_SIFKO', 'STEV']) #gets information about building in which is bought apartment located\n",
    "second = pd.merge(first, etn_data_posli_3_leta_nazaj, left_on=['ID Posla'], right_on=['ID Posla']) # gets details about contract for bough apartment\n",
    "seocnd = second[(second['Vrsta kupoprodajnega posla'] == 1) | (second['Vrsta kupoprodajnega posla'] == 2)] #only bought apartments thru sales market\n",
    "data = pd.merge(second, filtrirane_ren_stavbe_delistavb, left_on=['STA_SID','Številka dela stavbe','Številka stanovanja ali poslovnega prostora'], right_on=['STA_SID','STEVDST','STEVSTAN']) #all details about bought apartment\n",
    "##############################################################################################################################################################################################################\n",
    "filtrirana_kupljena_stanovanja = pd.merge(pd.merge(pd.merge(data, ks_stavbe_lokacija, left_on=['STA_SID'], right_on=['SID']),ks_data_stavbe,left_on=['STA_SID'], right_on=['STA_SID']),ks_data_deli_stavb,left_on=['DST_SID'],right_on=['DST_SID'])\n",
    "##############################################################################################################################################################################################################\n",
    "#transforms object point to readable numpy array coordinates\n",
    "all_points = np.array(list(filtrirana_kupljena_stanovanja.geometry.apply(lambda x: (x.x, x.y))))\n",
    "#adds columns for position_y and position_x\n",
    "filtrirana_kupljena_stanovanja[['position_x','position_y']] = all_points\n",
    "filtrirana_kupljena_stanovanja = filtrirana_kupljena_stanovanja[filtrirana_kupljena_stanovanja['Stavba je dokončana'] == 1]\n",
    "#now join all data\n",
    "all_data_for_apartment = pd.merge(filtrirane_ren_stavbe_delistavb,ren_data_stavbe, left_on=['STA_SID'], right_on=['STA_SID'])\n",
    "all_data_for_apartment = pd.merge(pd.merge(pd.merge(all_data_for_apartment, ks_stavbe_lokacija, left_on=['STA_SID'], right_on=['SID']),ks_data_stavbe,left_on=['STA_SID'], right_on=['STA_SID']),ks_data_deli_stavb,left_on=['DST_SID'],right_on=['DST_SID'])\n",
    "all_data_points = np.array(list(all_data_for_apartment.geometry.apply(lambda x: (x.x, x.y))))\n",
    "all_data_for_apartment[['position_x','position_y']] = all_data_points\n",
    "final_all_data = gpd.GeoDataFrame(all_data_for_apartment).sjoin(emv_vrednostne_cone_stanovanj,predicate = 'within')\n",
    "final_all_data.rename(columns={'Šifra KO':'SIFRA_KO','Ime KO':'IME_KO','Občina':'OBCINA','Številka stavbe':'ST_STAVBE','Številka dela stavbe':'ST_DEL_STAVBE','Številka stanovanja ali poslovnega prostora':'ST_STAN_ALI_POSL_PROST','STA_SID_x':'STA_SID'})\n"
   ]
  },
  {
   "cell_type": "code",
   "execution_count": 10,
   "outputs": [
    {
     "data": {
      "text/plain": "             IME MODEL       ID  ST_RAVNI    DAT_VELJ  \\\n853  STA_1040899   STA  1040899        12  2020-04-01   \n\n                                              geometry  \n853  POLYGON ((470230.950 110574.918, 470320.000 11...  ",
      "text/html": "<div>\n<style scoped>\n    .dataframe tbody tr th:only-of-type {\n        vertical-align: middle;\n    }\n\n    .dataframe tbody tr th {\n        vertical-align: top;\n    }\n\n    .dataframe thead th {\n        text-align: right;\n    }\n</style>\n<table border=\"1\" class=\"dataframe\">\n  <thead>\n    <tr style=\"text-align: right;\">\n      <th></th>\n      <th>IME</th>\n      <th>MODEL</th>\n      <th>ID</th>\n      <th>ST_RAVNI</th>\n      <th>DAT_VELJ</th>\n      <th>geometry</th>\n    </tr>\n  </thead>\n  <tbody>\n    <tr>\n      <th>853</th>\n      <td>STA_1040899</td>\n      <td>STA</td>\n      <td>1040899</td>\n      <td>12</td>\n      <td>2020-04-01</td>\n      <td>POLYGON ((470230.950 110574.918, 470320.000 11...</td>\n    </tr>\n  </tbody>\n</table>\n</div>"
     },
     "execution_count": 10,
     "metadata": {},
     "output_type": "execute_result"
    }
   ],
   "source": [
    "#POTREBNO JE DODATI FILTRIRANIM PRODANIM_STANOVANJEM ATRIBUT ST_RAVNI - torej vrednostne cone, ki jih dobimo, tako da preverimo v katerem polygonu je tocka\n",
    "emv_vrednostne_cone_stanovanj[emv_vrednostne_cone_stanovanj.contains(Point(469932.47,110266.57))]"
   ],
   "metadata": {
    "collapsed": false,
    "pycharm": {
     "name": "#%%\n"
    }
   }
  },
  {
   "cell_type": "code",
   "execution_count": 55,
   "outputs": [],
   "source": [],
   "metadata": {
    "collapsed": false,
    "pycharm": {
     "name": "#%%\n"
    }
   }
  },
  {
   "cell_type": "code",
   "execution_count": 43,
   "outputs": [
    {
     "data": {
      "text/plain": "       ID Posla  SIFRA_KO               IME_KO       OBCINA  ST_STAVBE  \\\n0        637436      1958            BREZOVICA      DOMŽALE      139.0   \n1        544505      1958            BREZOVICA      DOMŽALE      139.0   \n707      637364      1758            DRAGOMELJ      DOMŽALE      318.0   \n708      645458      1758            DRAGOMELJ      DOMŽALE      318.0   \n709      490347      1758            DRAGOMELJ      DOMŽALE      318.0   \n...         ...       ...                  ...          ...        ...   \n21917    486319      2380               ŠTURJE   AJDOVŠČINA       14.0   \n21865    511846      1722  TRNOVSKO PREDMESTJE    LJUBLJANA     5258.0   \n21909    481954      2335             DORNBERK  NOVA GORICA     1651.0   \n21920    496021      2275                PLAVE        KANAL       67.0   \n21922    518124      1425          VELIKA LOKA      TREBNJE      125.0   \n\n       ST_DEL_STAVBE Parcelna številka za geolokacijo  \\\n0                4.0                              NaN   \n1                3.0                              NaN   \n707             35.0                              NaN   \n708             17.0                              NaN   \n709              9.0                              NaN   \n...              ...                              ...   \n21917            1.0                              NaN   \n21865            2.0                              NaN   \n21909           12.0                              NaN   \n21920            2.0                              NaN   \n21922            3.0                              NaN   \n\n      Interna oznaka dela stavbe  Evidentiranost dela stavbe      Naselje  \\\n0                            NaN                           1      ZABORŠT   \n1                            NaN                           1      ZABORŠT   \n707                          NaN                           1    DRAGOMELJ   \n708                          NaN                           1    DRAGOMELJ   \n709                          NaN                           1    DRAGOMELJ   \n...                          ...                         ...          ...   \n21917                        NaN                           1   AJDOVŠČINA   \n21865                        NaN                           1    LJUBLJANA   \n21909                        NaN                           1     DORNBERK   \n21920                        NaN                           1        PLAVE   \n21922                        NaN                           1  VELIKA LOKA   \n\n       ... DR_SIF  ETAZA position_x  position_y  index_right          IME  \\\n0      ...    2.0    2.0  469932.47   110266.57          853  STA_1040899   \n1      ...    2.0    3.0  469932.47   110266.57          853  STA_1040899   \n707    ...    2.0    3.0  468426.38   107502.67          853  STA_1040899   \n708    ...    2.0    4.0  468426.38   107502.67          853  STA_1040899   \n709    ...    2.0    3.0  468426.38   107502.67          853  STA_1040899   \n...    ...    ...    ...        ...         ...          ...          ...   \n21917  ...    2.0    2.0  415221.11    85285.65          129  STA_1040420   \n21865  ...    2.0    1.0  461594.20    99732.06          216  STA_1040753   \n21909  ...    2.0    4.0  401786.42    83782.81          128  STA_1040758   \n21920  ...    2.0    2.0  391057.46   101937.62          489  STA_1040139   \n21922  ...    NaN    NaN  497688.28    87921.90          563  STA_1040394   \n\n       MODEL       ID  ST_RAVNI    DAT_VELJ  \n0        STA  1040899        12  2020-04-01  \n1        STA  1040899        12  2020-04-01  \n707      STA  1040899        12  2020-04-01  \n708      STA  1040899        12  2020-04-01  \n709      STA  1040899        12  2020-04-01  \n...      ...      ...       ...         ...  \n21917    STA  1040420         7  2020-04-01  \n21865    STA  1040753        18  2020-04-01  \n21909    STA  1040758         7  2020-04-01  \n21920    STA  1040139         6  2020-04-01  \n21922    STA  1040394         6  2020-04-01  \n\n[21977 rows x 106 columns]",
      "text/html": "<div>\n<style scoped>\n    .dataframe tbody tr th:only-of-type {\n        vertical-align: middle;\n    }\n\n    .dataframe tbody tr th {\n        vertical-align: top;\n    }\n\n    .dataframe thead th {\n        text-align: right;\n    }\n</style>\n<table border=\"1\" class=\"dataframe\">\n  <thead>\n    <tr style=\"text-align: right;\">\n      <th></th>\n      <th>ID Posla</th>\n      <th>SIFRA_KO</th>\n      <th>IME_KO</th>\n      <th>OBCINA</th>\n      <th>ST_STAVBE</th>\n      <th>ST_DEL_STAVBE</th>\n      <th>Parcelna številka za geolokacijo</th>\n      <th>Interna oznaka dela stavbe</th>\n      <th>Evidentiranost dela stavbe</th>\n      <th>Naselje</th>\n      <th>...</th>\n      <th>DR_SIF</th>\n      <th>ETAZA</th>\n      <th>position_x</th>\n      <th>position_y</th>\n      <th>index_right</th>\n      <th>IME</th>\n      <th>MODEL</th>\n      <th>ID</th>\n      <th>ST_RAVNI</th>\n      <th>DAT_VELJ</th>\n    </tr>\n  </thead>\n  <tbody>\n    <tr>\n      <th>0</th>\n      <td>637436</td>\n      <td>1958</td>\n      <td>BREZOVICA</td>\n      <td>DOMŽALE</td>\n      <td>139.0</td>\n      <td>4.0</td>\n      <td>NaN</td>\n      <td>NaN</td>\n      <td>1</td>\n      <td>ZABORŠT</td>\n      <td>...</td>\n      <td>2.0</td>\n      <td>2.0</td>\n      <td>469932.47</td>\n      <td>110266.57</td>\n      <td>853</td>\n      <td>STA_1040899</td>\n      <td>STA</td>\n      <td>1040899</td>\n      <td>12</td>\n      <td>2020-04-01</td>\n    </tr>\n    <tr>\n      <th>1</th>\n      <td>544505</td>\n      <td>1958</td>\n      <td>BREZOVICA</td>\n      <td>DOMŽALE</td>\n      <td>139.0</td>\n      <td>3.0</td>\n      <td>NaN</td>\n      <td>NaN</td>\n      <td>1</td>\n      <td>ZABORŠT</td>\n      <td>...</td>\n      <td>2.0</td>\n      <td>3.0</td>\n      <td>469932.47</td>\n      <td>110266.57</td>\n      <td>853</td>\n      <td>STA_1040899</td>\n      <td>STA</td>\n      <td>1040899</td>\n      <td>12</td>\n      <td>2020-04-01</td>\n    </tr>\n    <tr>\n      <th>707</th>\n      <td>637364</td>\n      <td>1758</td>\n      <td>DRAGOMELJ</td>\n      <td>DOMŽALE</td>\n      <td>318.0</td>\n      <td>35.0</td>\n      <td>NaN</td>\n      <td>NaN</td>\n      <td>1</td>\n      <td>DRAGOMELJ</td>\n      <td>...</td>\n      <td>2.0</td>\n      <td>3.0</td>\n      <td>468426.38</td>\n      <td>107502.67</td>\n      <td>853</td>\n      <td>STA_1040899</td>\n      <td>STA</td>\n      <td>1040899</td>\n      <td>12</td>\n      <td>2020-04-01</td>\n    </tr>\n    <tr>\n      <th>708</th>\n      <td>645458</td>\n      <td>1758</td>\n      <td>DRAGOMELJ</td>\n      <td>DOMŽALE</td>\n      <td>318.0</td>\n      <td>17.0</td>\n      <td>NaN</td>\n      <td>NaN</td>\n      <td>1</td>\n      <td>DRAGOMELJ</td>\n      <td>...</td>\n      <td>2.0</td>\n      <td>4.0</td>\n      <td>468426.38</td>\n      <td>107502.67</td>\n      <td>853</td>\n      <td>STA_1040899</td>\n      <td>STA</td>\n      <td>1040899</td>\n      <td>12</td>\n      <td>2020-04-01</td>\n    </tr>\n    <tr>\n      <th>709</th>\n      <td>490347</td>\n      <td>1758</td>\n      <td>DRAGOMELJ</td>\n      <td>DOMŽALE</td>\n      <td>318.0</td>\n      <td>9.0</td>\n      <td>NaN</td>\n      <td>NaN</td>\n      <td>1</td>\n      <td>DRAGOMELJ</td>\n      <td>...</td>\n      <td>2.0</td>\n      <td>3.0</td>\n      <td>468426.38</td>\n      <td>107502.67</td>\n      <td>853</td>\n      <td>STA_1040899</td>\n      <td>STA</td>\n      <td>1040899</td>\n      <td>12</td>\n      <td>2020-04-01</td>\n    </tr>\n    <tr>\n      <th>...</th>\n      <td>...</td>\n      <td>...</td>\n      <td>...</td>\n      <td>...</td>\n      <td>...</td>\n      <td>...</td>\n      <td>...</td>\n      <td>...</td>\n      <td>...</td>\n      <td>...</td>\n      <td>...</td>\n      <td>...</td>\n      <td>...</td>\n      <td>...</td>\n      <td>...</td>\n      <td>...</td>\n      <td>...</td>\n      <td>...</td>\n      <td>...</td>\n      <td>...</td>\n      <td>...</td>\n    </tr>\n    <tr>\n      <th>21917</th>\n      <td>486319</td>\n      <td>2380</td>\n      <td>ŠTURJE</td>\n      <td>AJDOVŠČINA</td>\n      <td>14.0</td>\n      <td>1.0</td>\n      <td>NaN</td>\n      <td>NaN</td>\n      <td>1</td>\n      <td>AJDOVŠČINA</td>\n      <td>...</td>\n      <td>2.0</td>\n      <td>2.0</td>\n      <td>415221.11</td>\n      <td>85285.65</td>\n      <td>129</td>\n      <td>STA_1040420</td>\n      <td>STA</td>\n      <td>1040420</td>\n      <td>7</td>\n      <td>2020-04-01</td>\n    </tr>\n    <tr>\n      <th>21865</th>\n      <td>511846</td>\n      <td>1722</td>\n      <td>TRNOVSKO PREDMESTJE</td>\n      <td>LJUBLJANA</td>\n      <td>5258.0</td>\n      <td>2.0</td>\n      <td>NaN</td>\n      <td>NaN</td>\n      <td>1</td>\n      <td>LJUBLJANA</td>\n      <td>...</td>\n      <td>2.0</td>\n      <td>1.0</td>\n      <td>461594.20</td>\n      <td>99732.06</td>\n      <td>216</td>\n      <td>STA_1040753</td>\n      <td>STA</td>\n      <td>1040753</td>\n      <td>18</td>\n      <td>2020-04-01</td>\n    </tr>\n    <tr>\n      <th>21909</th>\n      <td>481954</td>\n      <td>2335</td>\n      <td>DORNBERK</td>\n      <td>NOVA GORICA</td>\n      <td>1651.0</td>\n      <td>12.0</td>\n      <td>NaN</td>\n      <td>NaN</td>\n      <td>1</td>\n      <td>DORNBERK</td>\n      <td>...</td>\n      <td>2.0</td>\n      <td>4.0</td>\n      <td>401786.42</td>\n      <td>83782.81</td>\n      <td>128</td>\n      <td>STA_1040758</td>\n      <td>STA</td>\n      <td>1040758</td>\n      <td>7</td>\n      <td>2020-04-01</td>\n    </tr>\n    <tr>\n      <th>21920</th>\n      <td>496021</td>\n      <td>2275</td>\n      <td>PLAVE</td>\n      <td>KANAL</td>\n      <td>67.0</td>\n      <td>2.0</td>\n      <td>NaN</td>\n      <td>NaN</td>\n      <td>1</td>\n      <td>PLAVE</td>\n      <td>...</td>\n      <td>2.0</td>\n      <td>2.0</td>\n      <td>391057.46</td>\n      <td>101937.62</td>\n      <td>489</td>\n      <td>STA_1040139</td>\n      <td>STA</td>\n      <td>1040139</td>\n      <td>6</td>\n      <td>2020-04-01</td>\n    </tr>\n    <tr>\n      <th>21922</th>\n      <td>518124</td>\n      <td>1425</td>\n      <td>VELIKA LOKA</td>\n      <td>TREBNJE</td>\n      <td>125.0</td>\n      <td>3.0</td>\n      <td>NaN</td>\n      <td>NaN</td>\n      <td>1</td>\n      <td>VELIKA LOKA</td>\n      <td>...</td>\n      <td>NaN</td>\n      <td>NaN</td>\n      <td>497688.28</td>\n      <td>87921.90</td>\n      <td>563</td>\n      <td>STA_1040394</td>\n      <td>STA</td>\n      <td>1040394</td>\n      <td>6</td>\n      <td>2020-04-01</td>\n    </tr>\n  </tbody>\n</table>\n<p>21977 rows × 106 columns</p>\n</div>"
     },
     "execution_count": 43,
     "metadata": {},
     "output_type": "execute_result"
    }
   ],
   "source": [
    "import rtree\n",
    "final = gpd.GeoDataFrame(filtrirana_kupljena_stanovanja).sjoin(emv_vrednostne_cone_stanovanj,predicate = 'within')\n",
    "final = final.rename(columns={'Šifra KO':'SIFRA_KO','Ime KO':'IME_KO','Občina':'OBCINA','Številka stavbe':'ST_STAVBE','Številka dela stavbe':'ST_DEL_STAVBE','Številka stanovanja ali poslovnega prostora':'ST_STAN_ALI_POSL_PROST','STA_SID_x':'STA_SID','Pogodbena cena / Odškodnina':'STAN_CEN'})\n",
    "final = final.drop(['KO_SIFKO','STEV','STEVDST','STEVSTAN','HS_MID_y','KATAS_VPIS_y','SID','SIF_KO','STST','ST_ETAZ_y','OB_MID_y','STA_SID_y','STDST','KSRS_y','STATUS_y'],axis = 1)\n",
    "final.to_csv('filtrirana_kuplena_stanovanja.csv')"
   ],
   "metadata": {
    "collapsed": false,
    "pycharm": {
     "name": "#%%\n"
    }
   }
  },
  {
   "cell_type": "code",
   "execution_count": 53,
   "outputs": [
    {
     "data": {
      "text/plain": "      ENOTA    UL_MID  UL_ID                UL_UIME UL_DJ    NA_MID    OB_MID  \\\n0        UL  16235784      1                 Center  None  10127637  11026672   \n1        UL  16235792      2               Lampreče  None  10127637  11026672   \n2        UL  16235806      3                Mušenik  None  10127637  11026672   \n3        UL  16235814      4               Pristava  None  10127637  11026672   \n4        UL  16235822      5              Rudarjevo  None  10127637  11026672   \n...     ...       ...    ...                    ...   ...       ...       ...   \n10434    UL  16245399     14  Ulica Franca Volariča  None  10140790  11026958   \n10435    UL  16245402     15     Ulica Janka Uršiča  None  10140790  11026958   \n10436    UL  16245437     16   Ulica Sergeja Mašera  None  10140790  11026958   \n10437    UL  16245429     17       Volaričeva ulica  None  10140790  11026958   \n10438    UL  19897923     18     Industrijska cesta  None  10140790  11026958   \n\n             D_OD       DV_OD STATUS  \\\n0      1995-01-01  1995-01-01      V   \n1      1995-01-01  1995-01-01      V   \n2      1995-01-01  1995-01-01      V   \n3      1995-01-01  1995-01-01      V   \n4      1995-01-01  1995-01-01      V   \n...           ...         ...    ...   \n10434  1995-01-01  1995-01-01      V   \n10435  1995-01-01  1995-01-01      V   \n10436  1995-01-01  1995-01-01      V   \n10437  1995-01-01  1995-01-01      V   \n10438  2006-06-23  2006-06-27      V   \n\n                                                geometry  \n0      MULTILINESTRING ((488577.910 148143.964, 48858...  \n1      MULTILINESTRING ((488947.402 147554.452, 48895...  \n2      MULTILINESTRING ((489255.459 149201.467, 48924...  \n3      MULTILINESTRING ((488013.156 147793.948, 48798...  \n4      MULTILINESTRING ((488765.267 148493.551, 48877...  \n...                                                  ...  \n10434  LINESTRING (390420.940 124172.669, 390420.411 ...  \n10435  LINESTRING (390410.227 123885.470, 390327.724 ...  \n10436  MULTILINESTRING ((390475.977 123688.156, 39051...  \n10437  LINESTRING (390452.506 124028.669, 390449.410 ...  \n10438  LINESTRING (390847.607 123698.048, 390911.848 ...  \n\n[10439 rows x 11 columns]",
      "text/html": "<div>\n<style scoped>\n    .dataframe tbody tr th:only-of-type {\n        vertical-align: middle;\n    }\n\n    .dataframe tbody tr th {\n        vertical-align: top;\n    }\n\n    .dataframe thead th {\n        text-align: right;\n    }\n</style>\n<table border=\"1\" class=\"dataframe\">\n  <thead>\n    <tr style=\"text-align: right;\">\n      <th></th>\n      <th>ENOTA</th>\n      <th>UL_MID</th>\n      <th>UL_ID</th>\n      <th>UL_UIME</th>\n      <th>UL_DJ</th>\n      <th>NA_MID</th>\n      <th>OB_MID</th>\n      <th>D_OD</th>\n      <th>DV_OD</th>\n      <th>STATUS</th>\n      <th>geometry</th>\n    </tr>\n  </thead>\n  <tbody>\n    <tr>\n      <th>0</th>\n      <td>UL</td>\n      <td>16235784</td>\n      <td>1</td>\n      <td>Center</td>\n      <td>None</td>\n      <td>10127637</td>\n      <td>11026672</td>\n      <td>1995-01-01</td>\n      <td>1995-01-01</td>\n      <td>V</td>\n      <td>MULTILINESTRING ((488577.910 148143.964, 48858...</td>\n    </tr>\n    <tr>\n      <th>1</th>\n      <td>UL</td>\n      <td>16235792</td>\n      <td>2</td>\n      <td>Lampreče</td>\n      <td>None</td>\n      <td>10127637</td>\n      <td>11026672</td>\n      <td>1995-01-01</td>\n      <td>1995-01-01</td>\n      <td>V</td>\n      <td>MULTILINESTRING ((488947.402 147554.452, 48895...</td>\n    </tr>\n    <tr>\n      <th>2</th>\n      <td>UL</td>\n      <td>16235806</td>\n      <td>3</td>\n      <td>Mušenik</td>\n      <td>None</td>\n      <td>10127637</td>\n      <td>11026672</td>\n      <td>1995-01-01</td>\n      <td>1995-01-01</td>\n      <td>V</td>\n      <td>MULTILINESTRING ((489255.459 149201.467, 48924...</td>\n    </tr>\n    <tr>\n      <th>3</th>\n      <td>UL</td>\n      <td>16235814</td>\n      <td>4</td>\n      <td>Pristava</td>\n      <td>None</td>\n      <td>10127637</td>\n      <td>11026672</td>\n      <td>1995-01-01</td>\n      <td>1995-01-01</td>\n      <td>V</td>\n      <td>MULTILINESTRING ((488013.156 147793.948, 48798...</td>\n    </tr>\n    <tr>\n      <th>4</th>\n      <td>UL</td>\n      <td>16235822</td>\n      <td>5</td>\n      <td>Rudarjevo</td>\n      <td>None</td>\n      <td>10127637</td>\n      <td>11026672</td>\n      <td>1995-01-01</td>\n      <td>1995-01-01</td>\n      <td>V</td>\n      <td>MULTILINESTRING ((488765.267 148493.551, 48877...</td>\n    </tr>\n    <tr>\n      <th>...</th>\n      <td>...</td>\n      <td>...</td>\n      <td>...</td>\n      <td>...</td>\n      <td>...</td>\n      <td>...</td>\n      <td>...</td>\n      <td>...</td>\n      <td>...</td>\n      <td>...</td>\n      <td>...</td>\n    </tr>\n    <tr>\n      <th>10434</th>\n      <td>UL</td>\n      <td>16245399</td>\n      <td>14</td>\n      <td>Ulica Franca Volariča</td>\n      <td>None</td>\n      <td>10140790</td>\n      <td>11026958</td>\n      <td>1995-01-01</td>\n      <td>1995-01-01</td>\n      <td>V</td>\n      <td>LINESTRING (390420.940 124172.669, 390420.411 ...</td>\n    </tr>\n    <tr>\n      <th>10435</th>\n      <td>UL</td>\n      <td>16245402</td>\n      <td>15</td>\n      <td>Ulica Janka Uršiča</td>\n      <td>None</td>\n      <td>10140790</td>\n      <td>11026958</td>\n      <td>1995-01-01</td>\n      <td>1995-01-01</td>\n      <td>V</td>\n      <td>LINESTRING (390410.227 123885.470, 390327.724 ...</td>\n    </tr>\n    <tr>\n      <th>10436</th>\n      <td>UL</td>\n      <td>16245437</td>\n      <td>16</td>\n      <td>Ulica Sergeja Mašera</td>\n      <td>None</td>\n      <td>10140790</td>\n      <td>11026958</td>\n      <td>1995-01-01</td>\n      <td>1995-01-01</td>\n      <td>V</td>\n      <td>MULTILINESTRING ((390475.977 123688.156, 39051...</td>\n    </tr>\n    <tr>\n      <th>10437</th>\n      <td>UL</td>\n      <td>16245429</td>\n      <td>17</td>\n      <td>Volaričeva ulica</td>\n      <td>None</td>\n      <td>10140790</td>\n      <td>11026958</td>\n      <td>1995-01-01</td>\n      <td>1995-01-01</td>\n      <td>V</td>\n      <td>LINESTRING (390452.506 124028.669, 390449.410 ...</td>\n    </tr>\n    <tr>\n      <th>10438</th>\n      <td>UL</td>\n      <td>19897923</td>\n      <td>18</td>\n      <td>Industrijska cesta</td>\n      <td>None</td>\n      <td>10140790</td>\n      <td>11026958</td>\n      <td>2006-06-23</td>\n      <td>2006-06-27</td>\n      <td>V</td>\n      <td>LINESTRING (390847.607 123698.048, 390911.848 ...</td>\n    </tr>\n  </tbody>\n</table>\n<p>10439 rows × 11 columns</p>\n</div>"
     },
     "execution_count": 53,
     "metadata": {},
     "output_type": "execute_result"
    }
   ],
   "source": [
    "ulice = gpd.read_file('../data/RPE_UL/UL/UL.shp')\n",
    "hisne_stevilke = gpd.read_file('../data/HS/HS.shp')\n"
   ],
   "metadata": {
    "collapsed": false,
    "pycharm": {
     "name": "#%%\n"
    }
   }
  },
  {
   "cell_type": "code",
   "execution_count": 46,
   "outputs": [
    {
     "data": {
      "text/plain": "       ENOTA    HS_MID  HS HD LABELA    UL_MID    NA_MID    OB_MID    PT_MID  \\\n543155    HS  24493032  17  C    17C  16328901  10148405  11027008  21431150   \n\n          PO_MID        D_OD       DV_OD STATUS     CEN_E     CEN_N  \\\n543155  18984687  2022-05-23  2022-05-23      V  550137.0  163113.0   \n\n                             geometry  \n543155  POINT (550137.000 163113.000)  ",
      "text/html": "<div>\n<style scoped>\n    .dataframe tbody tr th:only-of-type {\n        vertical-align: middle;\n    }\n\n    .dataframe tbody tr th {\n        vertical-align: top;\n    }\n\n    .dataframe thead th {\n        text-align: right;\n    }\n</style>\n<table border=\"1\" class=\"dataframe\">\n  <thead>\n    <tr style=\"text-align: right;\">\n      <th></th>\n      <th>ENOTA</th>\n      <th>HS_MID</th>\n      <th>HS</th>\n      <th>HD</th>\n      <th>LABELA</th>\n      <th>UL_MID</th>\n      <th>NA_MID</th>\n      <th>OB_MID</th>\n      <th>PT_MID</th>\n      <th>PO_MID</th>\n      <th>D_OD</th>\n      <th>DV_OD</th>\n      <th>STATUS</th>\n      <th>CEN_E</th>\n      <th>CEN_N</th>\n      <th>geometry</th>\n    </tr>\n  </thead>\n  <tbody>\n    <tr>\n      <th>543155</th>\n      <td>HS</td>\n      <td>24493032</td>\n      <td>17</td>\n      <td>C</td>\n      <td>17C</td>\n      <td>16328901</td>\n      <td>10148405</td>\n      <td>11027008</td>\n      <td>21431150</td>\n      <td>18984687</td>\n      <td>2022-05-23</td>\n      <td>2022-05-23</td>\n      <td>V</td>\n      <td>550137.0</td>\n      <td>163113.0</td>\n      <td>POINT (550137.000 163113.000)</td>\n    </tr>\n  </tbody>\n</table>\n</div>"
     },
     "execution_count": 46,
     "metadata": {},
     "output_type": "execute_result"
    }
   ],
   "source": [
    "hisne_stevilke[hisne_stevilke['HS_MID'] == 24493032.0]"
   ],
   "metadata": {
    "collapsed": false,
    "pycharm": {
     "name": "#%%\n"
    }
   }
  },
  {
   "cell_type": "code",
   "execution_count": 48,
   "outputs": [
    {
     "data": {
      "text/plain": "      ID Posla  SIFRA_KO    IME_KO   OBCINA  ST_STAVBE  ST_DEL_STAVBE  \\\n1632    652187       604  GRADIŠKA  KUNGOTA      879.0            7.0   \n1633    652190       604  GRADIŠKA  KUNGOTA      879.0           11.0   \n1634    652191       604  GRADIŠKA  KUNGOTA      879.0            9.0   \n1635    652181       604  GRADIŠKA  KUNGOTA      879.0           10.0   \n1636    652183       604  GRADIŠKA  KUNGOTA      879.0            4.0   \n1637    652188       604  GRADIŠKA  KUNGOTA      879.0            6.0   \n\n     Parcelna številka za geolokacijo Interna oznaka dela stavbe  \\\n1632                              NaN                        NaN   \n1633                              NaN                        NaN   \n1634                              NaN                        NaN   \n1635                              NaN                        NaN   \n1636                              NaN                        NaN   \n1637                              NaN                        NaN   \n\n      Evidentiranost dela stavbe   Naselje  ... DR_SIF  ETAZA position_x  \\\n1632                           1  GRADIŠKA  ...    2.0    2.0  550133.85   \n1633                           1  GRADIŠKA  ...    2.0    3.0  550133.85   \n1634                           1  GRADIŠKA  ...    2.0    3.0  550133.85   \n1635                           1  GRADIŠKA  ...    2.0    3.0  550133.85   \n1636                           1  GRADIŠKA  ...    2.0    2.0  550133.85   \n1637                           1  GRADIŠKA  ...    2.0    2.0  550133.85   \n\n      position_y  index_right          IME  MODEL       ID  ST_RAVNI  \\\n1632   163111.78          864  STA_1040793    STA  1040793         6   \n1633   163111.78          864  STA_1040793    STA  1040793         6   \n1634   163111.78          864  STA_1040793    STA  1040793         6   \n1635   163111.78          864  STA_1040793    STA  1040793         6   \n1636   163111.78          864  STA_1040793    STA  1040793         6   \n1637   163111.78          864  STA_1040793    STA  1040793         6   \n\n        DAT_VELJ  \n1632  2020-04-01  \n1633  2020-04-01  \n1634  2020-04-01  \n1635  2020-04-01  \n1636  2020-04-01  \n1637  2020-04-01  \n\n[6 rows x 106 columns]",
      "text/html": "<div>\n<style scoped>\n    .dataframe tbody tr th:only-of-type {\n        vertical-align: middle;\n    }\n\n    .dataframe tbody tr th {\n        vertical-align: top;\n    }\n\n    .dataframe thead th {\n        text-align: right;\n    }\n</style>\n<table border=\"1\" class=\"dataframe\">\n  <thead>\n    <tr style=\"text-align: right;\">\n      <th></th>\n      <th>ID Posla</th>\n      <th>SIFRA_KO</th>\n      <th>IME_KO</th>\n      <th>OBCINA</th>\n      <th>ST_STAVBE</th>\n      <th>ST_DEL_STAVBE</th>\n      <th>Parcelna številka za geolokacijo</th>\n      <th>Interna oznaka dela stavbe</th>\n      <th>Evidentiranost dela stavbe</th>\n      <th>Naselje</th>\n      <th>...</th>\n      <th>DR_SIF</th>\n      <th>ETAZA</th>\n      <th>position_x</th>\n      <th>position_y</th>\n      <th>index_right</th>\n      <th>IME</th>\n      <th>MODEL</th>\n      <th>ID</th>\n      <th>ST_RAVNI</th>\n      <th>DAT_VELJ</th>\n    </tr>\n  </thead>\n  <tbody>\n    <tr>\n      <th>1632</th>\n      <td>652187</td>\n      <td>604</td>\n      <td>GRADIŠKA</td>\n      <td>KUNGOTA</td>\n      <td>879.0</td>\n      <td>7.0</td>\n      <td>NaN</td>\n      <td>NaN</td>\n      <td>1</td>\n      <td>GRADIŠKA</td>\n      <td>...</td>\n      <td>2.0</td>\n      <td>2.0</td>\n      <td>550133.85</td>\n      <td>163111.78</td>\n      <td>864</td>\n      <td>STA_1040793</td>\n      <td>STA</td>\n      <td>1040793</td>\n      <td>6</td>\n      <td>2020-04-01</td>\n    </tr>\n    <tr>\n      <th>1633</th>\n      <td>652190</td>\n      <td>604</td>\n      <td>GRADIŠKA</td>\n      <td>KUNGOTA</td>\n      <td>879.0</td>\n      <td>11.0</td>\n      <td>NaN</td>\n      <td>NaN</td>\n      <td>1</td>\n      <td>GRADIŠKA</td>\n      <td>...</td>\n      <td>2.0</td>\n      <td>3.0</td>\n      <td>550133.85</td>\n      <td>163111.78</td>\n      <td>864</td>\n      <td>STA_1040793</td>\n      <td>STA</td>\n      <td>1040793</td>\n      <td>6</td>\n      <td>2020-04-01</td>\n    </tr>\n    <tr>\n      <th>1634</th>\n      <td>652191</td>\n      <td>604</td>\n      <td>GRADIŠKA</td>\n      <td>KUNGOTA</td>\n      <td>879.0</td>\n      <td>9.0</td>\n      <td>NaN</td>\n      <td>NaN</td>\n      <td>1</td>\n      <td>GRADIŠKA</td>\n      <td>...</td>\n      <td>2.0</td>\n      <td>3.0</td>\n      <td>550133.85</td>\n      <td>163111.78</td>\n      <td>864</td>\n      <td>STA_1040793</td>\n      <td>STA</td>\n      <td>1040793</td>\n      <td>6</td>\n      <td>2020-04-01</td>\n    </tr>\n    <tr>\n      <th>1635</th>\n      <td>652181</td>\n      <td>604</td>\n      <td>GRADIŠKA</td>\n      <td>KUNGOTA</td>\n      <td>879.0</td>\n      <td>10.0</td>\n      <td>NaN</td>\n      <td>NaN</td>\n      <td>1</td>\n      <td>GRADIŠKA</td>\n      <td>...</td>\n      <td>2.0</td>\n      <td>3.0</td>\n      <td>550133.85</td>\n      <td>163111.78</td>\n      <td>864</td>\n      <td>STA_1040793</td>\n      <td>STA</td>\n      <td>1040793</td>\n      <td>6</td>\n      <td>2020-04-01</td>\n    </tr>\n    <tr>\n      <th>1636</th>\n      <td>652183</td>\n      <td>604</td>\n      <td>GRADIŠKA</td>\n      <td>KUNGOTA</td>\n      <td>879.0</td>\n      <td>4.0</td>\n      <td>NaN</td>\n      <td>NaN</td>\n      <td>1</td>\n      <td>GRADIŠKA</td>\n      <td>...</td>\n      <td>2.0</td>\n      <td>2.0</td>\n      <td>550133.85</td>\n      <td>163111.78</td>\n      <td>864</td>\n      <td>STA_1040793</td>\n      <td>STA</td>\n      <td>1040793</td>\n      <td>6</td>\n      <td>2020-04-01</td>\n    </tr>\n    <tr>\n      <th>1637</th>\n      <td>652188</td>\n      <td>604</td>\n      <td>GRADIŠKA</td>\n      <td>KUNGOTA</td>\n      <td>879.0</td>\n      <td>6.0</td>\n      <td>NaN</td>\n      <td>NaN</td>\n      <td>1</td>\n      <td>GRADIŠKA</td>\n      <td>...</td>\n      <td>2.0</td>\n      <td>2.0</td>\n      <td>550133.85</td>\n      <td>163111.78</td>\n      <td>864</td>\n      <td>STA_1040793</td>\n      <td>STA</td>\n      <td>1040793</td>\n      <td>6</td>\n      <td>2020-04-01</td>\n    </tr>\n  </tbody>\n</table>\n<p>6 rows × 106 columns</p>\n</div>"
     },
     "execution_count": 48,
     "metadata": {},
     "output_type": "execute_result"
    }
   ],
   "source": [
    "final[final['HS_MID_x'] == 24493032.0]"
   ],
   "metadata": {
    "collapsed": false,
    "pycharm": {
     "name": "#%%\n"
    }
   }
  },
  {
   "cell_type": "code",
   "execution_count": 57,
   "outputs": [],
   "source": [
    "final_all_data = pd.merge(final_all_data,hisne_stevilke, left_on=['HS_MID_x'], right_on=['HS_MID'])"
   ],
   "metadata": {
    "collapsed": false,
    "pycharm": {
     "name": "#%%\n"
    }
   }
  },
  {
   "cell_type": "code",
   "execution_count": 58,
   "outputs": [
    {
     "name": "stderr",
     "output_type": "stream",
     "text": [
      "/tmp/ipykernel_66523/987819794.py:1: FutureWarning: Passing 'suffixes' which cause duplicate columns {'STATUS_x', 'OB_MID_x'} in the result is deprecated and will raise a MergeError in a future version.\n",
      "  final_all_data = pd.merge(final_all_data,ulice, left_on=['UL_MID'], right_on=['UL_MID'])\n"
     ]
    }
   ],
   "source": [
    "final_all_data = pd.merge(final_all_data,ulice, left_on=['UL_MID'], right_on=['UL_MID'])"
   ],
   "metadata": {
    "collapsed": false,
    "pycharm": {
     "name": "#%%\n"
    }
   }
  },
  {
   "cell_type": "code",
   "execution_count": 66,
   "outputs": [],
   "source": [
    "final_all_data = final_all_data.rename(columns = {'STA_SID_x':'STA_SID','UL_UIME':'Ulica'})"
   ],
   "metadata": {
    "collapsed": false,
    "pycharm": {
     "name": "#%%\n"
    }
   }
  },
  {
   "cell_type": "code",
   "execution_count": 67,
   "outputs": [],
   "source": [
    "final_all_data.to_csv('all_data_apartents.csv')"
   ],
   "metadata": {
    "collapsed": false,
    "pycharm": {
     "name": "#%%\n"
    }
   }
  },
  {
   "cell_type": "code",
   "execution_count": 1,
   "outputs": [
    {
     "ename": "NameError",
     "evalue": "name 'final' is not defined",
     "output_type": "error",
     "traceback": [
      "\u001B[0;31m---------------------------------------------------------------------------\u001B[0m",
      "\u001B[0;31mNameError\u001B[0m                                 Traceback (most recent call last)",
      "Input \u001B[0;32mIn [1]\u001B[0m, in \u001B[0;36m<cell line: 1>\u001B[0;34m()\u001B[0m\n\u001B[0;32m----> 1\u001B[0m \u001B[43mfinal\u001B[49m[\u001B[38;5;124m'\u001B[39m\u001B[38;5;124mCEN_STAN\u001B[39m\u001B[38;5;124m'\u001B[39m]\n",
      "\u001B[0;31mNameError\u001B[0m: name 'final' is not defined"
     ]
    }
   ],
   "source": [
    "final['CEN_STAN']"
   ],
   "metadata": {
    "collapsed": false,
    "pycharm": {
     "name": "#%%\n"
    }
   }
  },
  {
   "cell_type": "code",
   "execution_count": null,
   "outputs": [],
   "source": [],
   "metadata": {
    "collapsed": false,
    "pycharm": {
     "name": "#%%\n"
    }
   }
  }
 ],
 "metadata": {
  "kernelspec": {
   "display_name": "Python 3 (ipykernel)",
   "language": "python",
   "name": "python3"
  },
  "language_info": {
   "codemirror_mode": {
    "name": "ipython",
    "version": 3
   },
   "file_extension": ".py",
   "mimetype": "text/x-python",
   "name": "python",
   "nbconvert_exporter": "python",
   "pygments_lexer": "ipython3",
   "version": "3.10.4"
  }
 },
 "nbformat": 4,
 "nbformat_minor": 1
}